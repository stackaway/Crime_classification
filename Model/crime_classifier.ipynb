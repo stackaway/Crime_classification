{
 "cells": [
  {
   "cell_type": "code",
   "execution_count": 23,
   "metadata": {},
   "outputs": [],
   "source": [
    "import pandas as pd\n",
    "import numpy as np"
   ]
  },
  {
   "cell_type": "markdown",
   "metadata": {},
   "source": [
    "IMPORTING ALL ORIGINAL DATASETS"
   ]
  },
  {
   "cell_type": "code",
   "execution_count": 24,
   "metadata": {},
   "outputs": [
    {
     "data": {
      "text/plain": [
       "Index(['index', 'Text', 'ed_label_0', 'ed_label_1', 'oh_label'], dtype='object')"
      ]
     },
     "execution_count": 24,
     "metadata": {},
     "output_type": "execute_result"
    }
   ],
   "source": [
    "# AGGRESSION PARSED DATASET\n",
    "ori_aggression_dataset = '/Users/churnika/Desktop/Projects/Crime_classification/dataset/aggression_parsed_dataset.csv'\n",
    "ori_aggression = pd.read_csv(ori_aggression_dataset)\n",
    "ori_aggression = ori_aggression.dropna()\n",
    "ori_aggression.columns"
   ]
  },
  {
   "cell_type": "code",
   "execution_count": 25,
   "metadata": {},
   "outputs": [
    {
     "data": {
      "text/plain": [
       "Index(['index', 'Text', 'ed_label_0', 'ed_label_1', 'oh_label'], dtype='object')"
      ]
     },
     "execution_count": 25,
     "metadata": {},
     "output_type": "execute_result"
    }
   ],
   "source": [
    "# same as aggression dataset\n",
    "\n",
    "#ATTACK PARSED DATASET \n",
    "ori_attack_dataset = '/Users/churnika/Desktop/Projects/Crime_classification/dataset/attack_parsed_dataset.csv'\n",
    "ori_attack = pd.read_csv(ori_attack_dataset)\n",
    "ori_attack = ori_attack.dropna()\n",
    "ori_attack.columns"
   ]
  },
  {
   "cell_type": "code",
   "execution_count": 26,
   "metadata": {},
   "outputs": [
    {
     "data": {
      "text/plain": [
       "Index(['index', 'oh_label', 'Date', 'Text'], dtype='object')"
      ]
     },
     "execution_count": 26,
     "metadata": {},
     "output_type": "execute_result"
    }
   ],
   "source": [
    "# KAGGLE DATASET\n",
    "\n",
    "ori_kaggle_dataset = '/Users/churnika/Desktop/Projects/Crime_classification/dataset/kaggle_parsed_dataset.csv'\n",
    "ori_kaggle = pd.read_csv(ori_kaggle_dataset)\n",
    "ori_kaggle= ori_kaggle.dropna()\n",
    "ori_kaggle.columns"
   ]
  },
  {
   "cell_type": "code",
   "execution_count": 27,
   "metadata": {},
   "outputs": [
    {
     "data": {
      "text/plain": [
       "Index(['index', 'Text', 'ed_label_0', 'ed_label_1', 'oh_label'], dtype='object')"
      ]
     },
     "execution_count": 27,
     "metadata": {},
     "output_type": "execute_result"
    }
   ],
   "source": [
    "# TOXICITY PARSED DATASET\n",
    "\n",
    "ori_toxicity_dataset = '/Users/churnika/Desktop/Projects/Crime_classification/dataset/toxicity_parsed_dataset.csv'\n",
    "ori_toxicity = pd.read_csv(ori_toxicity_dataset)\n",
    "ori_toxicity = ori_toxicity.dropna()\n",
    "ori_toxicity.columns"
   ]
  },
  {
   "cell_type": "code",
   "execution_count": 28,
   "metadata": {},
   "outputs": [
    {
     "data": {
      "text/plain": [
       "Index(['index', 'id', 'Text', 'Annotation', 'oh_label'], dtype='object')"
      ]
     },
     "execution_count": 28,
     "metadata": {},
     "output_type": "execute_result"
    }
   ],
   "source": [
    "#TWITTER PARSED DATASET\n",
    "\n",
    "ori_twitter_dataset = '/Users/churnika/Desktop/Projects/Crime_classification/dataset/twitter_parsed_dataset.csv'\n",
    "ori_twitter = pd.read_csv(ori_twitter_dataset)\n",
    "ori_twitter = ori_twitter.dropna()\n",
    "ori_twitter.columns"
   ]
  },
  {
   "cell_type": "code",
   "execution_count": 29,
   "metadata": {},
   "outputs": [
    {
     "data": {
      "text/plain": [
       "Index(['index', 'id', 'Text', 'Annotation', 'oh_label'], dtype='object')"
      ]
     },
     "execution_count": 29,
     "metadata": {},
     "output_type": "execute_result"
    }
   ],
   "source": [
    "# TWITTER RACISM DATASET\n",
    "\n",
    "ori_twit_racist_dataset = '/Users/churnika/Desktop/Projects/Crime_classification/dataset/twitter_racism_parsed_dataset.csv'\n",
    "ori_twit_racist = pd.read_csv(ori_twit_racist_dataset)\n",
    "ori_twit_racist = ori_twit_racist.dropna()\n",
    "ori_twit_racist.columns"
   ]
  },
  {
   "cell_type": "code",
   "execution_count": 30,
   "metadata": {},
   "outputs": [
    {
     "data": {
      "text/plain": [
       "Index(['index', 'id', 'Text', 'Annotation', 'oh_label'], dtype='object')"
      ]
     },
     "execution_count": 30,
     "metadata": {},
     "output_type": "execute_result"
    }
   ],
   "source": [
    "# TWITTER SEXISM DATASET\n",
    "\n",
    "ori_twit_sexism_dataset = '/Users/churnika/Desktop/Projects/Crime_classification/dataset/twitter_sexism_parsed_dataset.csv'\n",
    "ori_twit_sexism = pd.read_csv(ori_twit_sexism_dataset)\n",
    "ori_twit_sexism = ori_twit_sexism.dropna()\n",
    "ori_twit_sexism.columns"
   ]
  },
  {
   "cell_type": "code",
   "execution_count": 31,
   "metadata": {},
   "outputs": [
    {
     "data": {
      "text/plain": [
       "Index(['index', 'UserIndex', 'Text', 'Number of Comments',\n",
       "       'Number of Subscribers', 'Membership Duration', 'Number of Uploads',\n",
       "       'Profanity in UserID', 'Age', 'oh_label'],\n",
       "      dtype='object')"
      ]
     },
     "execution_count": 31,
     "metadata": {},
     "output_type": "execute_result"
    }
   ],
   "source": [
    "# YOUTUBE PARSED DATASET\n",
    "\n",
    "ori_utube_dataset = '/Users/churnika/Desktop/Projects/Crime_classification/dataset/youtube_parsed_dataset.csv'\n",
    "ori_utube = pd.read_csv(ori_utube_dataset)\n",
    "ori_utube = ori_utube.dropna()\n",
    "ori_utube.columns"
   ]
  }
 ],
 "metadata": {
  "kernelspec": {
   "display_name": "my_project_env",
   "language": "python",
   "name": "python3"
  },
  "language_info": {
   "codemirror_mode": {
    "name": "ipython",
    "version": 3
   },
   "file_extension": ".py",
   "mimetype": "text/x-python",
   "name": "python",
   "nbconvert_exporter": "python",
   "pygments_lexer": "ipython3",
   "version": "3.8.18"
  }
 },
 "nbformat": 4,
 "nbformat_minor": 2
}
