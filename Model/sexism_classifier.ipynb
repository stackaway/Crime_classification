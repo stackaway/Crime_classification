{
 "cells": [
  {
   "cell_type": "code",
   "execution_count": 35,
   "metadata": {},
   "outputs": [],
   "source": [
    "import pandas as pd\n",
    "import numpy as np\n",
    "import re\n",
    "import string\n",
    "import calendar\n",
    "import nltk \n",
    "import keras "
   ]
  },
  {
   "cell_type": "code",
   "execution_count": 36,
   "metadata": {},
   "outputs": [
    {
     "data": {
      "text/plain": [
       "Index(['index', 'id', 'Text', 'Annotation', 'oh_label'], dtype='object')"
      ]
     },
     "execution_count": 36,
     "metadata": {},
     "output_type": "execute_result"
    }
   ],
   "source": [
    "ori_twit_sexism_dataset = '/Users/churnika/Desktop/Projects/Crime_classification/dataset/twitter_sexism_parsed_dataset.csv'\n",
    "ori_twit_sexism = pd.read_csv(ori_twit_sexism_dataset)\n",
    "ori_twit_sexism = ori_twit_sexism.dropna()\n",
    "ori_twit_sexism.columns"
   ]
  },
  {
   "cell_type": "code",
   "execution_count": 37,
   "metadata": {},
   "outputs": [
    {
     "name": "stdout",
     "output_type": "stream",
     "text": [
      "Index(['Text', 'oh_label'], dtype='object')\n"
     ]
    }
   ],
   "source": [
    "ori_twit_sexism = ori_twit_sexism.drop(columns=['index','id','Annotation'])\n",
    "print(ori_twit_sexism.columns)"
   ]
  },
  {
   "cell_type": "code",
   "execution_count": 38,
   "metadata": {},
   "outputs": [],
   "source": [
    "msg_exp = ori_twit_sexism['Text'].str.lower()"
   ]
  },
  {
   "cell_type": "code",
   "execution_count": 39,
   "metadata": {},
   "outputs": [],
   "source": [
    "# removing the urls that are present.\n",
    "\n",
    "text_without_urls = []\n",
    "\n",
    "def remove_urls(text):\n",
    "    url_pattern = re.compile(r'https?://\\S+|www\\.\\S+')\n",
    "    text_without_urls = url_pattern.sub('',text)\n",
    "    return text_without_urls\n",
    "\n",
    "for i in range(len(msg_exp)):\n",
    "    try:\n",
    "        msg_exp[i] = remove_urls(msg_exp[i])\n",
    "    except KeyError as e:\n",
    "        # print(f\"Error at index {i}: {e}. Skipping...\")\n",
    "        # ori_twit_sexism = ori_twit_sexism.drop(index=i,inplace=True)\n",
    "        continue\n"
   ]
  },
  {
   "cell_type": "code",
   "execution_count": 40,
   "metadata": {},
   "outputs": [
    {
     "name": "stdout",
     "output_type": "stream",
     "text": [
      "Error at index 9781: 9781. Skipping...\n",
      "Error at index 9782: 9782. Skipping...\n",
      "Error at index 9783: 9783. Skipping...\n"
     ]
    }
   ],
   "source": [
    "# removing punctuations\n",
    "\n",
    "def remove_punctuation(text):\n",
    "    translator = str.maketrans('', '', string.punctuation)\n",
    "    return text.translate(translator)\n",
    "\n",
    "for i in range(len(msg_exp)):\n",
    "    try:\n",
    "        msg_exp[i] = remove_punctuation(msg_exp[i])\n",
    "\n",
    "    except KeyError as e:\n",
    "        print(f\"Error at index {i}: {e}. Skipping...\")\n",
    "        continue"
   ]
  },
  {
   "cell_type": "code",
   "execution_count": 41,
   "metadata": {},
   "outputs": [
    {
     "name": "stderr",
     "output_type": "stream",
     "text": [
      "[nltk_data] Downloading package punkt to /Users/churnika/nltk_data...\n",
      "[nltk_data]   Package punkt is already up-to-date!\n",
      "[nltk_data] Downloading package stopwords to\n",
      "[nltk_data]     /Users/churnika/nltk_data...\n",
      "[nltk_data]   Package stopwords is already up-to-date!\n"
     ]
    },
    {
     "name": "stdout",
     "output_type": "stream",
     "text": [
      "Error at index 9781: 9781. Skipping...\n",
      "Error at index 9782: 9782. Skipping...\n",
      "Error at index 9783: 9783. Skipping...\n"
     ]
    }
   ],
   "source": [
    "# TOKENIZATION\n",
    "# REMOVING URLS\n",
    "# REMOVING NUMBERS\n",
    "# REMOVING STOP WORDS\n",
    "\n",
    "from nltk.corpus import stopwords\n",
    "\n",
    "nltk.download('punkt')\n",
    "nltk.download('stopwords')\n",
    "\n",
    "stop_words = set(stopwords.words('english'))\n",
    "\n",
    "months_days = [calendar.month_name[i].lower() for i in range(1, 13)] + [calendar.day_name[i].lower() for i in range(7)]\n",
    "remove_words = [\"vo\",\"n\",\"m\",\"c\",\"ra\",\"xx\",\"r\",\"date\",\"hii\",\"hi\",\"ye\",\"pa\",\"xxx\",\"p\",\"sir\",\"mam\",\"good\",\"morning\",\"time\",\"ur\",\"you\",\"status\",\"father\"]\n",
    "\n",
    "cleaned_tokens = []\n",
    "\n",
    "for i in range(len(msg_exp)):\n",
    "    try:\n",
    "        tokens = nltk.word_tokenize(msg_exp[i])\n",
    "        # Filter out URLs\n",
    "        tokens = [token for token in tokens if not re.match(r'http[s]?://', token)]\n",
    "        tokens = [token for token in tokens if token.isalpha()]\n",
    "        tokens = [token for token in tokens if token not in stop_words]\n",
    "        tokens = [token for token in tokens if token not in months_days]\n",
    "        tokens = [token for token in tokens if token not in remove_words]\n",
    "        cleaned_tokens.append(tokens)\n",
    "    except Exception as e:\n",
    "        print(f\"Error at index {i}: {e}. Skipping...\")\n",
    "        \n",
    "        continue"
   ]
  },
  {
   "cell_type": "code",
   "execution_count": 42,
   "metadata": {},
   "outputs": [
    {
     "name": "stderr",
     "output_type": "stream",
     "text": [
      "[nltk_data] Downloading package wordnet to\n",
      "[nltk_data]     /Users/churnika/nltk_data...\n",
      "[nltk_data]   Package wordnet is already up-to-date!\n"
     ]
    }
   ],
   "source": [
    "# LEMMATIZATION\n",
    "\n",
    "from nltk.stem import WordNetLemmatizer\n",
    "nltk.download('wordnet')\n",
    "\n",
    "lemmatizer = WordNetLemmatizer()\n",
    "\n",
    "lemmatized_tokens = [[lemmatizer.lemmatize(token) for token in tokens]for tokens in cleaned_tokens]"
   ]
  },
  {
   "cell_type": "code",
   "execution_count": 43,
   "metadata": {},
   "outputs": [],
   "source": [
    "# REMOVING RARE OR FREQUENTLY USED WORDS\n",
    "\n",
    "from collections import Counter\n",
    "\n",
    "freq = Counter([token for tokens in lemmatized_tokens for token in tokens])\n",
    "freq_threshold = 10\n",
    "\n",
    "lemmatized_tokens = [[token for token in tokens if freq[token] > freq_threshold] for tokens in lemmatized_tokens]"
   ]
  },
  {
   "cell_type": "code",
   "execution_count": 44,
   "metadata": {},
   "outputs": [],
   "source": [
    "#REMOVING WHITESPACES\n",
    "\n",
    "cleaned_lemmatized_tokens = [' '.join(tokens) for tokens in lemmatized_tokens]\n",
    "cleaned_lemmatized_tokens = [text.split() for text in cleaned_lemmatized_tokens]"
   ]
  },
  {
   "cell_type": "code",
   "execution_count": 45,
   "metadata": {},
   "outputs": [],
   "source": [
    "# Dictionary mapping abbreviations to their full forms\n",
    "abbreviation_dict = {\n",
    "    \"don't\": \"do not\",\n",
    "    \"can't\": \"cannot\",\n",
    "    \"u\": \"you\",\n",
    "    \"rt\": \"right\",\n",
    "    \"ur\":\"your\"\n",
    "}\n",
    "\n",
    "# Function to expand abbreviations\n",
    "def expand_abbreviations(tokens):\n",
    "    expanded_tokens = []\n",
    "    for token in tokens:\n",
    "        if token in abbreviation_dict:\n",
    "            expanded_tokens.extend(abbreviation_dict[token].split())\n",
    "        else:\n",
    "            expanded_tokens.append(token)\n",
    "    return expanded_tokens\n",
    "\n",
    "# Expand abbreviations in cleaned_lemmatized_tokens\n",
    "expanded_lemmatized_tokens = [expand_abbreviations(tokens) for tokens in cleaned_lemmatized_tokens]"
   ]
  },
  {
   "cell_type": "code",
   "execution_count": 46,
   "metadata": {},
   "outputs": [],
   "source": [
    "#REMOVE ACCENTS AND DIACRITICS FROM EXPANDED_LEMMATIZED_TOKENS\n",
    "\n",
    "from unidecode import unidecode\n",
    "\n",
    "def remove_accents_diacritics(tokens):\n",
    "    cleaned_tokens = []\n",
    "    for token in tokens:\n",
    "        cleaned_token = unidecode(token)\n",
    "        cleaned_tokens.append(cleaned_token)\n",
    "    return cleaned_tokens\n",
    "\n",
    "expanded_lemmatized_tokens = [remove_accents_diacritics(tokens) for tokens in expanded_lemmatized_tokens]\n"
   ]
  },
  {
   "cell_type": "code",
   "execution_count": 47,
   "metadata": {},
   "outputs": [],
   "source": [
    "# SENTIMENT ANALYSIS\n",
    "\n",
    "from nltk.sentiment import SentimentIntensityAnalyzer\n",
    "\n",
    "sia = SentimentIntensityAnalyzer()\n",
    "\n",
    "tokens = expanded_lemmatized_tokens\n",
    "\n",
    "# Function to get sentiment\n",
    "def get_sentiment(token_list):\n",
    "    text = ' '.join(token_list)\n",
    "    sentiment = sia.polarity_scores(text)\n",
    "    return sentiment\n",
    "\n",
    "sentiments = [get_sentiment(token_list) for token_list in tokens]"
   ]
  },
  {
   "cell_type": "code",
   "execution_count": 48,
   "metadata": {},
   "outputs": [],
   "source": [
    "# MAPPING OF SETIMENT\n",
    "\n",
    "def map_sentiment_score_to_label(sentiment):\n",
    "    if sentiment['compound'] >= 0.05:\n",
    "        return 'positive'\n",
    "    elif sentiment['compound'] <= -0.05:\n",
    "        return 'negative'\n",
    "    else:\n",
    "        return 'neutral'\n",
    "\n",
    "sentiment_labels = [map_sentiment_score_to_label(sentiment) for sentiment in sentiments]\n"
   ]
  },
  {
   "cell_type": "code",
   "execution_count": 49,
   "metadata": {},
   "outputs": [],
   "source": [
    "# Reset the index of the DataFrame\n",
    "\n",
    "ori_twit_sexism.reset_index(drop=True, inplace=True)\n",
    "ori_twit_sexism_sync = ori_twit_sexism.loc[[index for index in ori_twit_sexism.index if index < len(sentiments)]]\n",
    "assert len(sentiments) == len(ori_twit_sexism_sync), \"Lengths do not match\"\n",
    "\n",
    "ori_twit_sexism_sync['sentiment'] = sentiment_labels\n"
   ]
  },
  {
   "cell_type": "code",
   "execution_count": 50,
   "metadata": {},
   "outputs": [],
   "source": [
    "# TOKENIZATION OF TEXT INTO INTEGER VALUES\n",
    "\n",
    "from tensorflow.keras.preprocessing.text import Tokenizer\n",
    "\n",
    "# Create a tokenizer, configured to only take into account the top-10000 most common words\n",
    "tokenizer = Tokenizer(num_words=10000)\n",
    "\n",
    "# Build the word index\n",
    "tokenizer.fit_on_texts(expanded_lemmatized_tokens)\n",
    "\n",
    "# Turn strings into lists of integer indices\n",
    "sequences = tokenizer.texts_to_sequences(expanded_lemmatized_tokens)\n"
   ]
  },
  {
   "cell_type": "code",
   "execution_count": 51,
   "metadata": {},
   "outputs": [],
   "source": [
    "from keras.preprocessing.sequence import pad_sequences\n",
    "\n",
    "max_seq_length = 100  # or any other value based on your data\n",
    "\n",
    "# Pad the sequences\n",
    "padded_sequences = pad_sequences(sequences, maxlen=max_seq_length)"
   ]
  },
  {
   "cell_type": "code",
   "execution_count": 54,
   "metadata": {},
   "outputs": [
    {
     "name": "stdout",
     "output_type": "stream",
     "text": [
      "14875\n",
      "Index(['Text', 'oh_label'], dtype='object')\n"
     ]
    }
   ],
   "source": [
    "labels = ori_twit_sexism_sync.oh_label\n",
    "print(len(padded_sequences))\n",
    "print(ori_twit_sexism.columns)"
   ]
  },
  {
   "cell_type": "code",
   "execution_count": 55,
   "metadata": {},
   "outputs": [],
   "source": [
    "from sklearn.model_selection import train_test_split\n",
    "\n",
    "X_train, X_test, y_train, y_test = train_test_split(padded_sequences, labels, test_size=0.2, random_state=42)"
   ]
  },
  {
   "cell_type": "code",
   "execution_count": null,
   "metadata": {},
   "outputs": [],
   "source": [
    "from keras.models import Sequential\n",
    "from keras.layers import Embedding, LSTM, Dense\n",
    "\n",
    "# Define the model\n",
    "model = Sequential()\n",
    "model.add(Embedding(input_dim=10000, output_dim=100, input_length=max_seq_length))  # Adjust input_dim to the size of your vocabulary and output_dim to the size of the word vectors you want to use\n",
    "model.add(LSTM(units=32, dropout=0.2, recurrent_dropout=0.2))\n",
    "model.add(Dense(1, activation='sigmoid'))  # Use 'softmax' for multi-class problems\n",
    "\n",
    "# Compile the model\n",
    "model.compile(loss='binary_crossentropy', optimizer='adam', metrics=['accuracy'])  # Use 'categorical_crossentropy' for multi-class problems\n"
   ]
  },
  {
   "cell_type": "code",
   "execution_count": null,
   "metadata": {},
   "outputs": [],
   "source": [
    "import matplotlib.pyplot as plt\n",
    "\n",
    "compound_scores = [sentiment['compound'] for sentiment in sentiments]\n",
    "\n",
    "plt.figure(figsize=(8, 6))\n",
    "plt.hist(compound_scores, bins=20, color='skyblue', edgecolor='black')\n",
    "plt.title('Distribution of Sentiment Scores')\n",
    "plt.xlabel('Compound Sentiment Score')\n",
    "plt.ylabel('Frequency')\n",
    "plt.grid(True)\n",
    "plt.show()"
   ]
  }
 ],
 "metadata": {
  "kernelspec": {
   "display_name": "my_project_env",
   "language": "python",
   "name": "python3"
  },
  "language_info": {
   "codemirror_mode": {
    "name": "ipython",
    "version": 3
   },
   "file_extension": ".py",
   "mimetype": "text/x-python",
   "name": "python",
   "nbconvert_exporter": "python",
   "pygments_lexer": "ipython3",
   "version": "3.11.5"
  }
 },
 "nbformat": 4,
 "nbformat_minor": 2
}
